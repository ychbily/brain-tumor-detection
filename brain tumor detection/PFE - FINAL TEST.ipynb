{
 "cells": [
  {
   "cell_type": "code",
   "execution_count": 1,
   "id": "d0ebb366",
   "metadata": {},
   "outputs": [],
   "source": [
    "import cv2\n",
    "from keras.models import load_model\n",
    "from PIL import Image\n",
    "import numpy as np\n"
   ]
  },
  {
   "cell_type": "code",
   "execution_count": 10,
   "id": "37fe26a9",
   "metadata": {},
   "outputs": [],
   "source": [
    "# Load the image\n",
    "image_path = \"C:/Users/hp/pred/pred9.jpg\"\n",
    "image = cv2.imread(image_path)"
   ]
  },
  {
   "cell_type": "code",
   "execution_count": 11,
   "id": "8a1e4823",
   "metadata": {},
   "outputs": [
    {
     "name": "stdout",
     "output_type": "stream",
     "text": [
      "[[[[0.01176471 0.01176471 0.01176471]\n",
      "   [0.00784314 0.00784314 0.00784314]\n",
      "   [0.01960784 0.01960784 0.01960784]\n",
      "   ...\n",
      "   [0.00392157 0.00392157 0.00392157]\n",
      "   [0.00392157 0.00392157 0.00392157]\n",
      "   [0.00392157 0.00392157 0.00392157]]\n",
      "\n",
      "  [[0.00784314 0.00784314 0.00784314]\n",
      "   [0.01568627 0.01568627 0.01568627]\n",
      "   [0.01176471 0.01176471 0.01176471]\n",
      "   ...\n",
      "   [0.00392157 0.00392157 0.00392157]\n",
      "   [0.00392157 0.00392157 0.00392157]\n",
      "   [0.00392157 0.00392157 0.00392157]]\n",
      "\n",
      "  [[0.         0.         0.        ]\n",
      "   [0.00784314 0.00784314 0.00784314]\n",
      "   [0.01176471 0.01176471 0.01176471]\n",
      "   ...\n",
      "   [0.00392157 0.00392157 0.00392157]\n",
      "   [0.00392157 0.00392157 0.00392157]\n",
      "   [0.00392157 0.00392157 0.00392157]]\n",
      "\n",
      "  ...\n",
      "\n",
      "  [[0.00392157 0.00392157 0.00392157]\n",
      "   [0.00392157 0.00392157 0.00392157]\n",
      "   [0.00392157 0.00392157 0.00392157]\n",
      "   ...\n",
      "   [0.00392157 0.00392157 0.00392157]\n",
      "   [0.00392157 0.00392157 0.00392157]\n",
      "   [0.00392157 0.00392157 0.00392157]]\n",
      "\n",
      "  [[0.00392157 0.00392157 0.00392157]\n",
      "   [0.00392157 0.00392157 0.00392157]\n",
      "   [0.00392157 0.00392157 0.00392157]\n",
      "   ...\n",
      "   [0.00392157 0.00392157 0.00392157]\n",
      "   [0.00392157 0.00392157 0.00392157]\n",
      "   [0.00392157 0.00392157 0.00392157]]\n",
      "\n",
      "  [[0.00392157 0.00392157 0.00392157]\n",
      "   [0.00392157 0.00392157 0.00392157]\n",
      "   [0.00392157 0.00392157 0.00392157]\n",
      "   ...\n",
      "   [0.00392157 0.00392157 0.00392157]\n",
      "   [0.00392157 0.00392157 0.00392157]\n",
      "   [0.00392157 0.00392157 0.00392157]]]]\n"
     ]
    }
   ],
   "source": [
    "# Preprocess the image\n",
    "image = cv2.resize(image, (200, 200)) # resize the image to the input size of the model\n",
    "image = image / 255.0 # normalize the pixel values to the range [0, 1]\n",
    "image = np.expand_dims(image, axis=0) # add a batch dimension\n",
    "img = np.array(image)\n",
    "print(image)"
   ]
  },
  {
   "cell_type": "code",
   "execution_count": 12,
   "id": "0e693d3b",
   "metadata": {},
   "outputs": [],
   "source": [
    "# Load the trained model\n",
    "model = load_model(\"BrainTumorDetection.h5\")"
   ]
  },
  {
   "cell_type": "code",
   "execution_count": 13,
   "id": "764f2506",
   "metadata": {},
   "outputs": [
    {
     "name": "stdout",
     "output_type": "stream",
     "text": [
      "1/1 [==============================] - 1s 573ms/step\n",
      "[[1.]]\n",
      "The brain has a tumor\n"
     ]
    }
   ],
   "source": [
    "# Predict the output\n",
    "output = model.predict(image)\n",
    "\n",
    "# Return a text based on the prediction\n",
    "#\"output[0][0]\" refers to the first element of the first row of the output array returned by the model's \"predict\" method.\n",
    "\n",
    "if output[0][0] < 0.5:\n",
    "    text = \"The brain does not have a tumor\"\n",
    "else:\n",
    "    text = \"The brain has a tumor\"\n",
    "\n",
    "    \n",
    "# Show the image\n",
    "\n",
    "cv2.imshow(\"Input Image\", cv2.resize(cv2.imread(image_path), (600, 600)))\n",
    "cv2.waitKey(0)\n",
    "cv2.destroyAllWindows()\n",
    "\n",
    "print(output)\n",
    "print(text)"
   ]
  },
  {
   "cell_type": "code",
   "execution_count": null,
   "id": "d1f5aff7",
   "metadata": {},
   "outputs": [],
   "source": []
  },
  {
   "cell_type": "code",
   "execution_count": null,
   "id": "dcd47310",
   "metadata": {},
   "outputs": [],
   "source": []
  }
 ],
 "metadata": {
  "kernelspec": {
   "display_name": "Python 3 (ipykernel)",
   "language": "python",
   "name": "python3"
  },
  "language_info": {
   "codemirror_mode": {
    "name": "ipython",
    "version": 3
   },
   "file_extension": ".py",
   "mimetype": "text/x-python",
   "name": "python",
   "nbconvert_exporter": "python",
   "pygments_lexer": "ipython3",
   "version": "3.9.12"
  }
 },
 "nbformat": 4,
 "nbformat_minor": 5
}
